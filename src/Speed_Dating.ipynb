{
 "cells": [
  {
   "cell_type": "markdown",
   "metadata": {},
   "source": [
    "# Predicting Speed Dating Match"
   ]
  },
  {
   "cell_type": "markdown",
   "metadata": {},
   "source": [
    "*Written by Ben Pang, presented to Prof. David Skillicorn*"
   ]
  },
  {
   "cell_type": "markdown",
   "metadata": {},
   "source": [
    "<b>"
   ]
  },
  {
   "cell_type": "markdown",
   "metadata": {},
   "source": [
    "## 1. Introduction"
   ]
  },
  {
   "cell_type": "markdown",
   "metadata": {},
   "source": [
    "The purpose of this study is to predict whether speed dating rounds result in a match, given the corresponding data surveryed from the individuals who participated in the round. We will select an appropriate classification model based on observations on the dataset and tune our model in order to achieve the highest test accuracy possible."
   ]
  },
  {
   "cell_type": "markdown",
   "metadata": {},
   "source": [
    "The two main tools that we will use are [scikit-learn](http://scikit-learn.org/stable/) and [pandas](https://pandas.pydata.org/). **scikit-learn** provides tools for preprocessing the data as well as implemenation and tuning of our classification model. **pandas** provides the *DataFrame* class which is convenient for data manipulation and cleaning."
   ]
  },
  {
   "cell_type": "code",
   "execution_count": 1,
   "metadata": {},
   "outputs": [],
   "source": [
    "import pandas as pd\n",
    "import numpy as np\n",
    "import matplotlib as plt\n",
    "\n",
    "from pathlib import Path"
   ]
  },
  {
   "cell_type": "markdown",
   "metadata": {},
   "source": [
    "\n",
    "## 2. The Dataset\n",
    "\n"
   ]
  },
  {
   "cell_type": "code",
   "execution_count": 2,
   "metadata": {},
   "outputs": [],
   "source": [
    "data_path = Path('../data/speed_dating_data.csv')\n",
    "data = pd.read_csv(data_path, encoding = \"ISO-8859-1\", thousands=',')"
   ]
  },
  {
   "cell_type": "code",
   "execution_count": 3,
   "metadata": {},
   "outputs": [
    {
     "data": {
      "text/html": [
       "<div>\n",
       "<style scoped>\n",
       "    .dataframe tbody tr th:only-of-type {\n",
       "        vertical-align: middle;\n",
       "    }\n",
       "\n",
       "    .dataframe tbody tr th {\n",
       "        vertical-align: top;\n",
       "    }\n",
       "\n",
       "    .dataframe thead th {\n",
       "        text-align: right;\n",
       "    }\n",
       "</style>\n",
       "<table border=\"1\" class=\"dataframe\">\n",
       "  <thead>\n",
       "    <tr style=\"text-align: right;\">\n",
       "      <th></th>\n",
       "      <th>iid</th>\n",
       "      <th>id</th>\n",
       "      <th>gender</th>\n",
       "      <th>idg</th>\n",
       "      <th>condtn</th>\n",
       "      <th>wave</th>\n",
       "      <th>round</th>\n",
       "      <th>position</th>\n",
       "      <th>positin1</th>\n",
       "      <th>order</th>\n",
       "      <th>...</th>\n",
       "      <th>attr3_3</th>\n",
       "      <th>sinc3_3</th>\n",
       "      <th>intel3_3</th>\n",
       "      <th>fun3_3</th>\n",
       "      <th>amb3_3</th>\n",
       "      <th>attr5_3</th>\n",
       "      <th>sinc5_3</th>\n",
       "      <th>intel5_3</th>\n",
       "      <th>fun5_3</th>\n",
       "      <th>amb5_3</th>\n",
       "    </tr>\n",
       "  </thead>\n",
       "  <tbody>\n",
       "    <tr>\n",
       "      <th>0</th>\n",
       "      <td>1</td>\n",
       "      <td>1.0</td>\n",
       "      <td>0</td>\n",
       "      <td>1</td>\n",
       "      <td>1</td>\n",
       "      <td>1</td>\n",
       "      <td>10</td>\n",
       "      <td>7</td>\n",
       "      <td>NaN</td>\n",
       "      <td>4</td>\n",
       "      <td>...</td>\n",
       "      <td>5.0</td>\n",
       "      <td>7.0</td>\n",
       "      <td>7.0</td>\n",
       "      <td>7.0</td>\n",
       "      <td>7.0</td>\n",
       "      <td>NaN</td>\n",
       "      <td>NaN</td>\n",
       "      <td>NaN</td>\n",
       "      <td>NaN</td>\n",
       "      <td>NaN</td>\n",
       "    </tr>\n",
       "    <tr>\n",
       "      <th>1</th>\n",
       "      <td>1</td>\n",
       "      <td>1.0</td>\n",
       "      <td>0</td>\n",
       "      <td>1</td>\n",
       "      <td>1</td>\n",
       "      <td>1</td>\n",
       "      <td>10</td>\n",
       "      <td>7</td>\n",
       "      <td>NaN</td>\n",
       "      <td>3</td>\n",
       "      <td>...</td>\n",
       "      <td>5.0</td>\n",
       "      <td>7.0</td>\n",
       "      <td>7.0</td>\n",
       "      <td>7.0</td>\n",
       "      <td>7.0</td>\n",
       "      <td>NaN</td>\n",
       "      <td>NaN</td>\n",
       "      <td>NaN</td>\n",
       "      <td>NaN</td>\n",
       "      <td>NaN</td>\n",
       "    </tr>\n",
       "    <tr>\n",
       "      <th>2</th>\n",
       "      <td>1</td>\n",
       "      <td>1.0</td>\n",
       "      <td>0</td>\n",
       "      <td>1</td>\n",
       "      <td>1</td>\n",
       "      <td>1</td>\n",
       "      <td>10</td>\n",
       "      <td>7</td>\n",
       "      <td>NaN</td>\n",
       "      <td>10</td>\n",
       "      <td>...</td>\n",
       "      <td>5.0</td>\n",
       "      <td>7.0</td>\n",
       "      <td>7.0</td>\n",
       "      <td>7.0</td>\n",
       "      <td>7.0</td>\n",
       "      <td>NaN</td>\n",
       "      <td>NaN</td>\n",
       "      <td>NaN</td>\n",
       "      <td>NaN</td>\n",
       "      <td>NaN</td>\n",
       "    </tr>\n",
       "    <tr>\n",
       "      <th>3</th>\n",
       "      <td>1</td>\n",
       "      <td>1.0</td>\n",
       "      <td>0</td>\n",
       "      <td>1</td>\n",
       "      <td>1</td>\n",
       "      <td>1</td>\n",
       "      <td>10</td>\n",
       "      <td>7</td>\n",
       "      <td>NaN</td>\n",
       "      <td>5</td>\n",
       "      <td>...</td>\n",
       "      <td>5.0</td>\n",
       "      <td>7.0</td>\n",
       "      <td>7.0</td>\n",
       "      <td>7.0</td>\n",
       "      <td>7.0</td>\n",
       "      <td>NaN</td>\n",
       "      <td>NaN</td>\n",
       "      <td>NaN</td>\n",
       "      <td>NaN</td>\n",
       "      <td>NaN</td>\n",
       "    </tr>\n",
       "    <tr>\n",
       "      <th>4</th>\n",
       "      <td>1</td>\n",
       "      <td>1.0</td>\n",
       "      <td>0</td>\n",
       "      <td>1</td>\n",
       "      <td>1</td>\n",
       "      <td>1</td>\n",
       "      <td>10</td>\n",
       "      <td>7</td>\n",
       "      <td>NaN</td>\n",
       "      <td>7</td>\n",
       "      <td>...</td>\n",
       "      <td>5.0</td>\n",
       "      <td>7.0</td>\n",
       "      <td>7.0</td>\n",
       "      <td>7.0</td>\n",
       "      <td>7.0</td>\n",
       "      <td>NaN</td>\n",
       "      <td>NaN</td>\n",
       "      <td>NaN</td>\n",
       "      <td>NaN</td>\n",
       "      <td>NaN</td>\n",
       "    </tr>\n",
       "  </tbody>\n",
       "</table>\n",
       "<p>5 rows × 195 columns</p>\n",
       "</div>"
      ],
      "text/plain": [
       "   iid   id  gender  idg  condtn  wave  round  position  positin1  order  \\\n",
       "0    1  1.0       0    1       1     1     10         7       NaN      4   \n",
       "1    1  1.0       0    1       1     1     10         7       NaN      3   \n",
       "2    1  1.0       0    1       1     1     10         7       NaN     10   \n",
       "3    1  1.0       0    1       1     1     10         7       NaN      5   \n",
       "4    1  1.0       0    1       1     1     10         7       NaN      7   \n",
       "\n",
       "    ...    attr3_3  sinc3_3  intel3_3  fun3_3  amb3_3  attr5_3  sinc5_3  \\\n",
       "0   ...        5.0      7.0       7.0     7.0     7.0      NaN      NaN   \n",
       "1   ...        5.0      7.0       7.0     7.0     7.0      NaN      NaN   \n",
       "2   ...        5.0      7.0       7.0     7.0     7.0      NaN      NaN   \n",
       "3   ...        5.0      7.0       7.0     7.0     7.0      NaN      NaN   \n",
       "4   ...        5.0      7.0       7.0     7.0     7.0      NaN      NaN   \n",
       "\n",
       "   intel5_3  fun5_3  amb5_3  \n",
       "0       NaN     NaN     NaN  \n",
       "1       NaN     NaN     NaN  \n",
       "2       NaN     NaN     NaN  \n",
       "3       NaN     NaN     NaN  \n",
       "4       NaN     NaN     NaN  \n",
       "\n",
       "[5 rows x 195 columns]"
      ]
     },
     "execution_count": 3,
     "metadata": {},
     "output_type": "execute_result"
    }
   ],
   "source": [
    "data.head()"
   ]
  },
  {
   "cell_type": "code",
   "execution_count": 4,
   "metadata": {},
   "outputs": [
    {
     "data": {
      "text/plain": [
       "(8378, 195)"
      ]
     },
     "execution_count": 4,
     "metadata": {},
     "output_type": "execute_result"
    }
   ],
   "source": [
    "data.shape"
   ]
  },
  {
   "cell_type": "code",
   "execution_count": 5,
   "metadata": {},
   "outputs": [
    {
     "data": {
      "text/plain": [
       "{'float64': Index(['id', 'positin1', 'pid', 'int_corr', 'age_o', 'race_o', 'pf_o_att',\n",
       "        'pf_o_sin', 'pf_o_int', 'pf_o_fun',\n",
       "        ...\n",
       "        'attr3_3', 'sinc3_3', 'intel3_3', 'fun3_3', 'amb3_3', 'attr5_3',\n",
       "        'sinc5_3', 'intel5_3', 'fun5_3', 'amb5_3'],\n",
       "       dtype='object', length=178),\n",
       " 'int64': Index(['iid', 'gender', 'idg', 'condtn', 'wave', 'round', 'position', 'order',\n",
       "        'partner', 'match', 'samerace', 'dec_o', 'dec'],\n",
       "       dtype='object'),\n",
       " 'object': Index(['field', 'undergra', 'from', 'career'], dtype='object')}"
      ]
     },
     "execution_count": 5,
     "metadata": {},
     "output_type": "execute_result"
    }
   ],
   "source": [
    "grp = data.columns.to_series().groupby(data.dtypes).groups\n",
    "{k.name:v for k, v in grp.items()}"
   ]
  },
  {
   "cell_type": "markdown",
   "metadata": {},
   "source": [
    "The *match* attribute indicates whether or not the round resulted in a match betwwen the two participants. Therefore, *match* is the target attribute that we will try to classify."
   ]
  },
  {
   "cell_type": "markdown",
   "metadata": {},
   "source": [
    "## 3. Data Cleaning"
   ]
  },
  {
   "cell_type": "markdown",
   "metadata": {},
   "source": [
    "First, we make a copy for our cleaned data and replace the NaN values with -1:"
   ]
  },
  {
   "cell_type": "code",
   "execution_count": 6,
   "metadata": {},
   "outputs": [],
   "source": [
    "data2 = data.copy().fillna(-1)"
   ]
  },
  {
   "cell_type": "markdown",
   "metadata": {},
   "source": [
    "From the Speed Dating Data Key, we notice that waves 6, 7, 8, and 9 use a 1-10 preference scale instead of the usual 100 point allocation. This is an inconsistency that will distract our classification model. Therefore, records from waves 6-9 are removed."
   ]
  },
  {
   "cell_type": "code",
   "execution_count": 7,
   "metadata": {},
   "outputs": [
    {
     "data": {
      "text/plain": [
       "(6816, 195)"
      ]
     },
     "execution_count": 7,
     "metadata": {},
     "output_type": "execute_result"
    }
   ],
   "source": [
    "data2 = data2.drop(data2[(data2.wave > 5) & (data2.wave < 10)].index)\n",
    "data2.shape"
   ]
  },
  {
   "cell_type": "markdown",
   "metadata": {},
   "source": [
    "Next, we observe that there exists two features, *dec* and *dec_o*, that indicate the decision of the player and the decision of his/her partner, respectively. If both the player and partner decide *yes* (1), then obvously the round results in a match. This information should not be a part of our analysis since we are trying to predict the result of a round without prior knowledge of the outcome. Thus, the features *dec* and *dec_o* will be removed."
   ]
  },
  {
   "cell_type": "code",
   "execution_count": 8,
   "metadata": {},
   "outputs": [
    {
     "data": {
      "text/plain": [
       "(6816, 193)"
      ]
     },
     "execution_count": 8,
     "metadata": {},
     "output_type": "execute_result"
    }
   ],
   "source": [
    "data2 = data2.drop(columns=['dec', 'dec_o'])\n",
    "data2.shape"
   ]
  },
  {
   "cell_type": "markdown",
   "metadata": {},
   "source": [
    "The data is quite \"messy\". There is plenty of missing data in some comlumns. For example, the *field* feature has a corresponding *field_cd* feature which is the integer-coded indicator for the player's field of study. However, some records have a value for one but not the other. The same is true for *career* and *career_c*. We are interested in the coded version of this information."
   ]
  },
  {
   "cell_type": "code",
   "execution_count": 9,
   "metadata": {},
   "outputs": [
    {
     "data": {
      "text/plain": [
       "{True}"
      ]
     },
     "execution_count": 9,
     "metadata": {},
     "output_type": "execute_result"
    }
   ],
   "source": [
    "set(data.field_cd[data.field.isnull()].isnull())"
   ]
  },
  {
   "cell_type": "code",
   "execution_count": 10,
   "metadata": {},
   "outputs": [
    {
     "data": {
      "text/plain": [
       "{True}"
      ]
     },
     "execution_count": 10,
     "metadata": {},
     "output_type": "execute_result"
    }
   ],
   "source": [
    "set(data.career_c[data.career.isnull()].isnull())"
   ]
  },
  {
   "cell_type": "markdown",
   "metadata": {},
   "source": [
    "Evidently, when there is no entry for *field_cd* (the field code), there is also no entry for *field*. The same is true for *career_c* (the career code) and *career*. Thus, we can build a dictionary mapping the string entries to their corresponding integer codes and then use this dictionary to replace missing code values."
   ]
  },
  {
   "cell_type": "code",
   "execution_count": 11,
   "metadata": {},
   "outputs": [],
   "source": [
    "def replace_code(data, name_col, code_col):\n",
    "    code_dict = dict(zip(data[name_col], data[code_col]))\n",
    "    data[code_col].update(data[name_col].map(code_dict))\n",
    "    return code_dict"
   ]
  },
  {
   "cell_type": "code",
   "execution_count": 12,
   "metadata": {
    "scrolled": false
   },
   "outputs": [],
   "source": [
    "field_dict = replace_code(data2, 'field', 'field_cd')"
   ]
  },
  {
   "cell_type": "code",
   "execution_count": 13,
   "metadata": {
    "scrolled": true
   },
   "outputs": [
    {
     "name": "stdout",
     "output_type": "stream",
     "text": [
      "{1.0, 2.0, 3.0, 4.0, 5.0, 6.0, 7.0, 8.0, 9.0, 10.0, 11.0, 12.0, 13.0, 14.0, 15.0, 16.0, 17.0, 18.0, -1.0}\n"
     ]
    }
   ],
   "source": [
    "print(set(data2.field_cd))"
   ]
  },
  {
   "cell_type": "markdown",
   "metadata": {},
   "source": [
    "Now we do the same for *career* and *career_c*:"
   ]
  },
  {
   "cell_type": "code",
   "execution_count": 14,
   "metadata": {},
   "outputs": [],
   "source": [
    "career_dict = replace_code(data2, 'career', 'career_c')"
   ]
  },
  {
   "cell_type": "code",
   "execution_count": 15,
   "metadata": {},
   "outputs": [
    {
     "name": "stdout",
     "output_type": "stream",
     "text": [
      "{1.0, 2.0, 3.0, 4.0, 5.0, 6.0, 7.0, 8.0, 9.0, 10.0, 11.0, 12.0, 13.0, 14.0, 15.0, 16.0, 17.0, -1.0}\n"
     ]
    }
   ],
   "source": [
    "print(set(data2.career_c))"
   ]
  },
  {
   "cell_type": "markdown",
   "metadata": {},
   "source": [
    "Since our classifiers work better with numerical data, we will convert the rest of the string columns to numerical versions, as well as remove unnecessary string columns."
   ]
  },
  {
   "cell_type": "code",
   "execution_count": 16,
   "metadata": {},
   "outputs": [
    {
     "data": {
      "text/html": [
       "<div>\n",
       "<style scoped>\n",
       "    .dataframe tbody tr th:only-of-type {\n",
       "        vertical-align: middle;\n",
       "    }\n",
       "\n",
       "    .dataframe tbody tr th {\n",
       "        vertical-align: top;\n",
       "    }\n",
       "\n",
       "    .dataframe thead th {\n",
       "        text-align: right;\n",
       "    }\n",
       "</style>\n",
       "<table border=\"1\" class=\"dataframe\">\n",
       "  <thead>\n",
       "    <tr style=\"text-align: right;\">\n",
       "      <th></th>\n",
       "      <th>field</th>\n",
       "      <th>undergra</th>\n",
       "      <th>from</th>\n",
       "      <th>career</th>\n",
       "    </tr>\n",
       "  </thead>\n",
       "  <tbody>\n",
       "    <tr>\n",
       "      <th>0</th>\n",
       "      <td>Law</td>\n",
       "      <td>-1</td>\n",
       "      <td>Chicago</td>\n",
       "      <td>lawyer</td>\n",
       "    </tr>\n",
       "    <tr>\n",
       "      <th>1</th>\n",
       "      <td>Law</td>\n",
       "      <td>-1</td>\n",
       "      <td>Chicago</td>\n",
       "      <td>lawyer</td>\n",
       "    </tr>\n",
       "    <tr>\n",
       "      <th>2</th>\n",
       "      <td>Law</td>\n",
       "      <td>-1</td>\n",
       "      <td>Chicago</td>\n",
       "      <td>lawyer</td>\n",
       "    </tr>\n",
       "    <tr>\n",
       "      <th>3</th>\n",
       "      <td>Law</td>\n",
       "      <td>-1</td>\n",
       "      <td>Chicago</td>\n",
       "      <td>lawyer</td>\n",
       "    </tr>\n",
       "    <tr>\n",
       "      <th>4</th>\n",
       "      <td>Law</td>\n",
       "      <td>-1</td>\n",
       "      <td>Chicago</td>\n",
       "      <td>lawyer</td>\n",
       "    </tr>\n",
       "  </tbody>\n",
       "</table>\n",
       "</div>"
      ],
      "text/plain": [
       "  field undergra     from  career\n",
       "0   Law       -1  Chicago  lawyer\n",
       "1   Law       -1  Chicago  lawyer\n",
       "2   Law       -1  Chicago  lawyer\n",
       "3   Law       -1  Chicago  lawyer\n",
       "4   Law       -1  Chicago  lawyer"
      ]
     },
     "execution_count": 16,
     "metadata": {},
     "output_type": "execute_result"
    }
   ],
   "source": [
    "data2.head().loc[:, data2.dtypes == object]"
   ]
  },
  {
   "cell_type": "markdown",
   "metadata": {},
   "source": [
    "*field* and *career* are no longer required since we already have their encoded versions. Thus, they will be removed."
   ]
  },
  {
   "cell_type": "code",
   "execution_count": 17,
   "metadata": {},
   "outputs": [],
   "source": [
    "data2 = data2.drop(columns=['field', 'career'])"
   ]
  },
  {
   "cell_type": "markdown",
   "metadata": {},
   "source": [
    "*zipcode* basically functions like an encoding for the *from* attribute, therfore we will replace it with a simple unique index encoding for *from*:"
   ]
  },
  {
   "cell_type": "code",
   "execution_count": 18,
   "metadata": {},
   "outputs": [],
   "source": [
    "zipcode_dict = dict([(k,v) for v, k in enumerate(set(data2['zipcode']))])\n",
    "data2['zipcode'].update(data2['zipcode'].map(zipcode_dict))\n",
    "from_dict = replace_code(data2, 'from', 'zipcode')"
   ]
  },
  {
   "cell_type": "markdown",
   "metadata": {},
   "source": [
    "Now we have no use for *from*, so it is dropped:"
   ]
  },
  {
   "cell_type": "code",
   "execution_count": 19,
   "metadata": {},
   "outputs": [],
   "source": [
    "data2 = data2.drop(columns='from')"
   ]
  },
  {
   "cell_type": "markdown",
   "metadata": {},
   "source": [
    "The *undergra* column will be mapped to a unique index for each school:"
   ]
  },
  {
   "cell_type": "code",
   "execution_count": 44,
   "metadata": {},
   "outputs": [],
   "source": [
    "undergra_dict = dict([(k,v) for v, k in enumerate(set(data2['undergra']))])\n",
    "undergra_dict.update({-1 : -1})\n",
    "data2['undergra'].update(data2['undergra'].map(undergra_dict))\n",
    "data2['undergra'] = pd.to_numeric(data2['undergra'])"
   ]
  },
  {
   "cell_type": "markdown",
   "metadata": {},
   "source": [
    "The cleaned data is now ready to be used in our model. We will save it for reference:"
   ]
  },
  {
   "cell_type": "code",
   "execution_count": 47,
   "metadata": {},
   "outputs": [],
   "source": [
    "data2.to_csv(Path('../data/data_cleaned.csv'))"
   ]
  },
  {
   "cell_type": "markdown",
   "metadata": {},
   "source": [
    "## 4. Prediction\n",
    "\n",
    "The first model we will test out is the Random Forest Classifier. RFC should be a very good model to use on this data since the the data has  many features and many missing values. RFC avoids overfitting in this highly-featured data space by taking the mode of all individual tree classifications. \n",
    "\n",
    "An additional benefit of using RFC is that we can derive the importance of each feature by ranking features based on their Mean Decrease Impurity (how much each feature decreases the impurity in a tree within the forest, on average). Even better, there is no need to manually implement this as feature importance by MDI is already exposed in [sklearn.ensemble.RandomForestClassifier](http://scikit-learn.org/stable/modules/generated/sklearn.ensemble.RandomForestClassifier.html)."
   ]
  },
  {
   "cell_type": "code",
<<<<<<< HEAD
   "execution_count": 77,
   "metadata": {},
   "outputs": [],
   "source": [
    "from sklearn.ensemble import RandomForestClassifier\n",
    "from sklearn.model_selection import train_test_split\n",
    "from sklearn.model_selection import KFold\n",
    "from sklearn.metrics import confusion_matrix"
   ]
  },
  {
   "cell_type": "markdown",
   "metadata": {},
   "source": [
    "Now we split the data into chunks we can work with: Training data, training target, testing data, and testing target. We will use a testing size ratio of **0.3**. The *sklearn.model_selection.train_test_split* method splits the data into training and testing sets by random sampling."
   ]
  },
  {
   "cell_type": "code",
   "execution_count": 248,
   "metadata": {},
   "outputs": [],
   "source": [
    "TEST_RATIO = 0.3\n",
    "training_set, testing_set = train_test_split(data2, test_size=TEST_RATIO)\n",
    "train_X = training_set.loc[:, training_set.columns != 'match']\n",
    "train_y = training_set.match\n",
    "test_X = testing_set.loc[:, testing_set.columns != 'match']\n",
    "test_y = testing_set.match"
   ]
  },
  {
   "cell_type": "markdown",
   "metadata": {},
   "source": [
    "We can now initialize the Random Forest Classifier. We will start with default hyperparameters."
   ]
  },
  {
   "cell_type": "code",
   "execution_count": 276,
   "metadata": {},
   "outputs": [],
   "source": [
    "rfc = RandomForestClassifier(class_weight={1:1})"
   ]
  },
  {
   "cell_type": "code",
   "execution_count": 277,
   "metadata": {},
   "outputs": [
    {
     "data": {
      "text/plain": [
       "RandomForestClassifier(bootstrap=True, class_weight={1: 1}, criterion='gini',\n",
       "            max_depth=None, max_features='auto', max_leaf_nodes=None,\n",
       "            min_impurity_decrease=0.0, min_impurity_split=None,\n",
       "            min_samples_leaf=1, min_samples_split=2,\n",
       "            min_weight_fraction_leaf=0.0, n_estimators=10, n_jobs=1,\n",
       "            oob_score=False, random_state=None, verbose=0,\n",
       "            warm_start=False)"
      ]
     },
     "execution_count": 277,
     "metadata": {},
     "output_type": "execute_result"
    }
   ],
   "source": [
    "rfc.fit(train_X,  train_y)"
   ]
  },
  {
   "cell_type": "markdown",
   "metadata": {},
   "source": [
    "Using this default model, we obtain the training accuracy and test accuracy:"
   ]
  },
  {
   "cell_type": "code",
   "execution_count": 278,
   "metadata": {},
   "outputs": [
    {
     "name": "stdout",
     "output_type": "stream",
     "text": [
      "Training Accuracy: 0.987634 \t Testing Accuracy: 0.841076\n"
     ]
    }
   ],
   "source": [
    "train_pred = rfc.predict(train_X)\n",
    "test_pred = rfc.predict(test_X)\n",
    "\n",
    "from sklearn.metrics import accuracy_score\n",
    "accuracy_train = accuracy_score(train_y, train_pred)\n",
    "accuracy_test = accuracy_score(test_y, test_pred)\n",
    "print(\"Training Accuracy: %f \\t Testing Accuracy: %f\" % (accuracy_train, accuracy_test))"
   ]
  },
  {
   "cell_type": "markdown",
   "metadata": {},
   "source": [
    "The confusion matrix for the single-pass prediction is shown below:"
   ]
  },
  {
   "cell_type": "code",
   "execution_count": 279,
   "metadata": {},
   "outputs": [
    {
     "name": "stdout",
     "output_type": "stream",
     "text": [
      "Confusion matrix, without normalization\n",
      "[[1581   99]\n",
      " [ 343   22]]\n"
     ]
    },
    {
     "data": {
      "image/png": "iVBORw0KGgoAAAANSUhEUgAAAVEAAAEmCAYAAADbUaM7AAAABHNCSVQICAgIfAhkiAAAAAlwSFlz\nAAALEgAACxIB0t1+/AAAADl0RVh0U29mdHdhcmUAbWF0cGxvdGxpYiB2ZXJzaW9uIDIuMS4wLCBo\ndHRwOi8vbWF0cGxvdGxpYi5vcmcvpW3flQAAIABJREFUeJzt3Xm8VlXZ//HPF46g5IBKDiGGFopG\nDohoTpkDYpqYI0qGSqk9PuaTWTn9Qi1N89HMNBWDHHLMMnEKyZzgARMV5wE0FQRFRHFAlOH6/bHX\nsVs8wz2yz7nP991rv87ea697r+s+Jy/WXnvvtRURmJlZeTrlHYCZWXvmJGpmVgEnUTOzCjiJmplV\nwEnUzKwCTqJmZhVwEu1AJK0k6TZJ8yX9uYLjDJN0dzVjy4ukHSU9n3cc1n7J94m2PZIOBU4A+gLv\nAVOBsyJiQoXHPQw4DtguIhZXHGgbJymAPhExPe9YrH65J9rGSDoBuBA4G1gbWB/4PTCkCof/IvBC\nR0igxZDUkHcMVgciwksbWYDVgPeBA1uo05Usyc5Ky4VA17RvZ2Am8GNgDjAbOCLtOwP4GFiU2hgB\nnA78qeDYvYEAGtL24cBLZL3hfwPDCsonFHxuO+BhYH76uV3BvvuAXwAT03HuBno0890a4/9pQfz7\nAt8EXgDmAacU1B8ITALeSXUvBrqkfQ+k7/JB+r4HFxz/Z8DrwDWNZekzX0pt9E/bXwDmAjvn/f8N\nL213cU+0bfkasCJwSwt1TgW2BbYANidLJKcV7F+HLBn3JEuUl0haPSJGkvVub4yIlSNidEuBSPoc\ncBGwZ0SsQpYopzZRbw3gjlR3TeAC4A5JaxZUOxQ4AlgL6AKc2ELT65D9DnoCPweuAL4DbAXsCPxc\n0oap7hLgR0APst/drsB/AUTETqnO5un73lhw/DXIeuVHFTYcES+SJdhrJXUD/ghcGRH3tRCvdXBO\nom3LmsDcaPl0exhwZkTMiYg3yXqYhxXsX5T2L4qIO8l6YRuXGc9SoJ+klSJidkQ83USdvYBpEXFN\nRCyOiOuB54BvFdT5Y0S8EBEfAjeR/QPQnEVk47+LgBvIEuRvI+K91P7TwGYAEfFIRExO7b4MXA58\nvYjvNDIiPkrxfEpEXAFMAx4C1iX7R8usWU6ibctbQI9Wxuq+ALxSsP1KKvvkGMsk4QXAyqUGEhEf\nkJ0CHwPMlnSHpL5FxNMYU8+C7ddLiOetiFiS1huT3BsF+z9s/LykjSTdLul1Se+S9bR7tHBsgDcj\nYmErda4A+gG/i4iPWqlrHZyTaNsyCVhINg7YnFlkp6KN1k9l5fgA6FawvU7hzogYFxG7k/XIniNL\nLq3F0xjTa2XGVIpLyeLqExGrAqcAauUzLd6OImllsnHm0cDpabjCrFlOom1IRMwnGwe8RNK+krpJ\nWkHSnpJ+napdD5wm6fOSeqT6fyqzyanATpLWl7QacHLjDklrS9onjY1+RDYssKSJY9wJbCTpUEkN\nkg4GNgVuLzOmUqwCvAu8n3rJP1hm/xvAhp/5VMt+CzwSEd8jG+u9rOIora45ibYxEXEB2T2ipwFv\nAjOA/wb+lqr8EpgCPAE8CTyaysppazxwYzrWI3w68XUiu8o/i+yK9ddJF22WOcZbwN6p7ltkV9b3\njoi55cRUohPJLlq9R9ZLvnGZ/acDV0l6R9JBrR1M0hBgMNkQBmR/h/6ShlUtYqs7vtnezKwC7oma\nmVXASdTMrAJOomZmFXASNTOrQJuagEENK4W6rJJ3GFYlm/XtlXcIViUzXn2Ft+bObe0e3JJ0XvWL\nEYs/89BYs+LDN8dFxOBqxlANbSuJdlmFrhu3eieKtRP/fPDCvEOwKtllx22qfsxY/GFJ/70vnHpJ\na0+j5aJNJVEz60gEav8jik6iZpYPAarqCEEunETNLD/uiZqZlUvQqXPeQVTMSdTM8uPTeTOzMgmf\nzpuZlU/uiZqZVcQ9UTOzCrgnamZWLt9sb2ZWPt9sb2ZWIfdEzczKJejsm+3NzMrj+0TNzCrkMVEz\ns3L56ryZWWXcEzUzq4B7omZmZZKfnTczq4x7omZmFXBP1MysXPVxdb79fwMza59E9nqQYpfWDieN\nkTRH0lNN7DtRUkjqkbYl6SJJ0yU9Ial/Qd3hkqalZXhr7TqJmllOUk+02KV1VwKDP9OK1AvYHXi1\noHhPoE9ajgIuTXXXAEYC2wADgZGSVm+pUSdRM8tP4xX6YpZWRMQDwLwmdv0G+CkQBWVDgKsjMxno\nLmldYA9gfETMi4i3gfE0kZgLeUzUzPJT2phoD0lTCrZHRcSoFg8v7QO8FhGP69OJuCcwo2B7Zipr\nrrxZTqJmlp/Srs7PjYgBxR9a3YBTgUFN7W6iLFoob5ZP580sH6r6mOiyvgRsADwu6WVgPeBRSeuQ\n9TB7FdRdD5jVQnmznETNLD9VHBNdVkQ8GRFrRUTviOhNliD7R8TrwFjgu+kq/bbA/IiYDYwDBkla\nPV1QGpTKmuXTeTPLjap4s72k64GdycZOZwIjI2J0M9XvBL4JTAcWAEcARMQ8Sb8AHk71zoyIpi5W\nfcJJ1Mxykb1iqXpJNCIOaWV/74L1AI5tpt4YYEyx7TqJmlk+JNTJj32amZWtmj3RvDiJmllunETN\nzCrgJGpmVi7R9K3t7YyTqJnlQsg9UTOzSjiJmplVwEnUzKwCTqJmZuXyhSUzs/IJ0alT+58DyUnU\nzHLj03kzs0q0/xzqJGpmOZF7omZmFXESNTOrgJOomVmZ/NinmVml2n8O9YvqquGykcN45Z5fMeXP\np3xSdurR3+TFcb9k8g0nMfmGk9hjh00BaGjoxBVnHsbDN53CY385jROPHNTicaxtufySi9h+6y3Y\nbsDmXHbJbwF46snH2WOXHdhh4BYceuC+vPvuuzlH2U6kC0vFLm2Vk2gVXHPbZIYce8lnyn/3p3vZ\ndug5bDv0HMZNeAaA/XfrT9cuDWx90NlsN+xcvrf/9qy/7hotHsfahmeffoqrrxzD+Pv/jwcmP8K4\nu+7kxenTOP7Yo/n5GWcz4V9T2etbQ7j4wvPzDrXdcBI1ACY++iLz5i8oqm4QdFuxC507d2Klrl34\neNES3vtgYcnHseXvheefY8DAgXTr1o2Ghga232En7rjtVqZPe4HtdtgRgJ132Y3bbr0l50jbD3VS\n0Utb5SRaQ8cM3Yl/3Xgyl40cRvdVVgLgr/94jAULP+bf48/ihbvO5MKr7+Htd50424O+m36FSRMn\nMO+tt1iwYAHj776L12bOYJNNv8Jdd9wGwK233Mxrr83IOdL2o5o9UUljJM2R9FRB2XmSnpP0hKRb\nJHUv2HeypOmSnpe0R0H54FQ2XdJJrbVb0yRaajD15Io/P8im3zqdbYaew+tz3+WcE/YDYOuv9GbJ\nkqVsOOhUNtlrJMcftgu9e66Zc7RWjI37bsIPf3Qi++8zmIP23Yt+/TajoaGBi35/BaNHXcouOwzk\n/ffep0uXLnmH2i6UkkCLPJ2/Ehi8TNl4oF9EbAa8AJyc2t4UGAp8JX3m95I6S+oMXALsCWwKHJLq\nNqtmSbScYOrJnHnvsXRpEBGM+etEBvT7IgAH7TmAu//vGRYvXsqbb7/PpKkvsdWm6+ccrRXrO8OP\n5N6JD3P73ffSfY012PBLX2ajjfvyl7F38c8J/2K/Aw+m9wYb5h1mu1HNJBoRDwDzlim7OyIWp83J\nwHppfQhwQ0R8FBH/BqYDA9MyPSJeioiPgRtS3WbVsidacjD1ZJ0eq36yPmSXzXnmxdkAzHx9Hjtv\nvTEA3VbswsDNevP8y2/kEqOV7s05cwCYOeNVbr/1b+x/4NBPypYuXcr5vz6bI0YclWeI7UqJSbSH\npCkFS6m/6COBu9J6T6Bw3GVmKmuuvFm1vE+0qWC2WbZS+kVkv4wVVq5hOLVz1a8OZ8et+tCj+8pM\n//sv+MVld7LTVn3YbOP1iAhemT2P4355PQCX3fgAo874Do/cfCoSXHPrZJ6aNqvZ41z1t0l5fjVb\nxuHDDmLevHmssEIDv77gIrqvvjqXX3IRo6+4DIC99tmXQw87PN8g25PSrhfNjYgBZTUjnQosBq5t\noeWg6Y5ltHTsWibR5oL8dEHEKGAUQKdua7UYbFs1/OQrP1PWXPL74MOPGfbTMUUfx9qWO8bf95my\no4/9IUcf+8PlH0wdWB63LkkaDuwN7BoRjTlmJtCroNp6wKy03lx5k2p5Ot9SkGbW0S2Hm+0lDQZ+\nBuwTEYW3wYwFhkrqKmkDoA/wL+BhoI+kDSR1Ibv4NLalNmrZE/0kGOC1FMyhNWzPzNoRAdXsiEq6\nHtiZbOx0JjCS7Gp8V2B8SsSTI+KYiHha0k3AM2Sn+cdGxJJ0nP8GxgGdgTER8XRL7dYsiUbE4lKD\nMbOORHSq4k30EXFIE8WjW6h/FnBWE+V3AncW225NJyApNRgz61ja8uOcxfIsTmaWD1X3dD4vTqJm\nlgtBVU/n8+Ikama5cU/UzKwCHhM1MyuXx0TNzMqX3Sfa/rOok6iZ5aRtz1hfLCdRM8tNHeRQJ1Ez\ny4l8i5OZWdk8JmpmVqE6yKFOomaWH/dEzcwqUAc51EnUzHIi90TNzMpW7UmZ8+IkamY58c32ZmYV\nqYMc6iRqZjnxzfZmZuXzzfZmZhWqhyRay/fOm5m1SCp+af1YGiNpjqSnCsrWkDRe0rT0c/VULkkX\nSZou6QlJ/Qs+MzzVnyZpeGvtOomaWW4kFb0U4Upg8DJlJwH3REQf4J60DbAn0CctRwGXpnjWIHtf\n/TbAQGBkY+JtjpOomeWjhF5oMTk0Ih4A5i1TPAS4Kq1fBexbUH51ZCYD3SWtC+wBjI+IeRHxNjCe\nzybmT/GYqJnlQqXfJ9pD0pSC7VERMaqVz6wdEbMBImK2pLVSeU9gRkG9mamsufJmOYmaWW5KvK40\nNyIGVKvpJsqihfJm+XTezHLTSSp6KdMb6TSd9HNOKp8J9Cqotx4wq4Xy5r9DuZGZmVWqmmOizRgL\nNF5hHw7cWlD+3XSVfltgfjrtHwcMkrR6uqA0KJU1y6fzZpYLCTpX8YklSdcDO5ONnc4ku8p+DnCT\npBHAq8CBqfqdwDeB6cAC4AiAiJgn6RfAw6nemRGx7MWqT3ESNbPcVPNm+4g4pJlduzZRN4BjmznO\nGGBMse02m0QlrdrSByPi3WIbMTNrSh08sNRiT/RpPnu1qnE7gPVrGJeZ1TmR3ebU3jWbRCOiV3P7\nzMyqoQ4mcSru6rykoZJOSevrSdqqtmGZWd0r4ZHPtjxRSatJVNLFwDeAw1LRAuCyWgZlZh3DcrjF\nqeaKuTq/XUT0l/QYfHILQJcax2VmdU5QyU30bUYxSXSRpE6kR58krQksrWlUZtYh1EEOLWpM9BLg\nL8DnJZ0BTADOrWlUZtYh1MOYaKs90Yi4WtIjwG6p6MCIeKqlz5iZtabaTyzlpdgnljoDi8hO6f28\nvZlVRftPocVdnT8VuB74AtmMJtdJOrnWgZlZ/esQp/PAd4CtImIBgKSzgEeAX9UyMDOrb9nV+byj\nqFwxSfSVZeo1AC/VJhwz6zDaeA+zWC1NQPIbsjHQBcDTksal7UFkV+jNzCpSBzm0xZ5o4xX4p4E7\nCson1y4cM+tI6ronGhGjl2cgZtaxdJgxUUlfAs4CNgVWbCyPiI1qGJeZdQD10BMt5p7PK4E/kv3D\nsSdwE3BDDWMysw5Ags5S0UtbVUwS7RYR4wAi4sWIOI1sViczs4p0lFmcPlLW535R0jHAa8BatQ3L\nzDqCjnI6/yNgZeCHwPbA94EjaxmUmXUM1eyJSvqRpKclPSXpekkrStpA0kOSpkm6sXEaT0ld0/b0\ntL93ud+h1SQaEQ9FxHsR8WpEHBYR+0TExHIbNDOD7P1KnVT80uKxpJ5kHb0BEdGPbL6PoWQzzv0m\nIvoAbwMj0kdGAG9HxJeB31DBzHQt3Wx/C2kO0aZExH7lNmpmRvXHOhuAlSQtAroBs4FdgEPT/quA\n04FLgSFpHeBm4GJJSq9SLrnR5lxc6sEq1ffLPbn2b2cv72atRrp1LXaSMGvranV1vFpjohHxmqT/\nBV4FPgTuJpvj452IWJyqzQR6pvWewIz02cWS5gNrAnNLbbulm+3vKfVgZmalKHFezR6SphRsj4qI\nUQCSVifrXW4AvAP8meyWzGU19jSbyt4l90Kh+PlEzcyqSpTcE50bEQOa2bcb8O+IeJPsuH8FtgO6\nS2pIvdH1gFmp/kygFzBTUgOwGjCv9G/hCZbNLEedVPzSileBbSV1S7dk7go8A9wLHJDqDAduTetj\n0zZp/z/LGQ+FEnqikrpGxEflNGJmtqxqvh4kIh6SdDPwKLAYeAwYRTZ50g2SfpnKGucEGQ1cI2k6\nWQ90aLltF/Ps/MDU4GrA+pI2B74XEceV26iZGVR3ApKIGAmMXKb4JWBgE3UXAgdWo91iTucvAvYG\n3kqNP44f+zSzKugoj312iohXlhkAXlKjeMysg8imwmvD2bFIxSTRGemUPiR1Bo4DXqhtWGbWEdTD\nle1ikugPyE7p1wfeAP6RyszMKlIHHdHWk2hEzKGCK1dmZk1REc/EtwfFXJ2/gibu5I+Io2oSkZl1\nGHWQQ4s6nf9HwfqKwLdJz5yamVWiQ7xjKSJuLNyWdA0wvmYRmVmHIKp3s32eynl2fgPgi9UOxMw6\nmOIe52zzihkTfZv/jIl2IntE6qRaBmVmHYOanEypfWkxiaYH+Tcne68SwNJyH9I3MytUL++db/Fe\n15Qwb4mIJWlxAjWzqqniLE65KeaBgX9J6l/zSMysw5FU9NJWtfSOpcaJTHcAvi/pReADsl54RIQT\nq5mVrV5O51saE/0X0B/YdznFYmYdSRufnalYLSVRAUTEi8spFjPrYOr9sc/PSzqhuZ0RcUEN4jGz\nDqIjnM53Blam6bfimZlVSDV7FfPy1FISnR0RZy63SMysQ8ne9pl3FJVrdUzUzKwm2vj9n8VqKYnu\nutyiMLMOqR4uLDV7s31ElPUiezOzYjSezlfrRXWSuku6WdJzkp6V9DVJa0gaL2la+rl6qitJF0ma\nLumJSh4oqodXnJhZO9UpzW5fzFKE3wJ/j4i+ZHN+PEs2WdI9EdEHuIf/TJ60J9AnLUcBl5b9Hcr9\noJlZparVE5W0KrATMBogIj6OiHeAIcBVqdpV/OfhoSHA1ZGZDHSXtG4538FJ1MxyIbIEVOwC9JA0\npWApfEXRhsCbwB8lPSbpD5I+B6wdEbMB0s+1Uv2efPoNHTNTWcnKmZTZzKxyotSJReZGxIBm9jWQ\nPaZ+XEQ8JOm3tDzvcVMNlzVLnXuiZpYblbC0YiYwMyIeSts3kyXVNxpP09PPOQX1exV8fj1gVjnf\nwUnUzHIhoLNU9NKSiHgdmCFp41S0K/AMMBYYnsqGA7em9bHAd9NV+m2B+Y2n/aXy6byZ5abKt4ke\nB1wrqQvwEnAEWUfxJkkjgFeBA1PdO4FvAtOBBaluWZxEzSwn1Z1sOSKmAk2NmX7mwaH0lo5jq9Gu\nk6iZ5aLx6nx75yRqZrlpy6/9KJaTqJnlpv2nUCdRM8tL6feJtklOomaWC4+JmplVyD1RM7MK1Puk\nzGZmNZOdzrf/LOokama5qYOzeSdRM8uLkHuiZmblc0/UzKxMHhM1M6tEkS+ga+ucRM0sN06iZmYV\nqIcLS/Xw1FWb8tHChRw25BscPHh7Dth9Gy694OxP7T935E/YftMvfLJ9859Gc9AeX2Ponjtw5AF7\n8NK055Z3yFakGTNmsMdu32CLr25C/82/wsUX/RaAk3/2Ezbv15ett9yMgw74Nu+8807OkbYPIrvZ\nvtilrXISrbIuXbty+XW3cePfJ3L9nROYdP8/eOLRhwF45olHee/d+Z+qP3jIgdw0bhI33DWB4Ucf\nz/m/OCWPsK0IDQ0NnPPr85n65LPcP2Eyl192Cc8+8wy77rY7j0x9iocfe4I+fTbivHN/lXeo7UaV\n3zufCyfRKpNEt8+tDMDixYtYvHgRkliyZAkXnv1zjj/5zE/VX3mVVT9Z/3DBgrp4lrherbvuumzZ\nvz8Aq6yyCn37bsKsWa+x2+6DaGjIRsYGbrMtr82cmWeY7YpK+F9b5THRGliyZAnD9v46M155iYMO\n+x5f3XIA1425lJ1225PPr7XOZ+rfePUVXPuHi1m0aBGXX3dbDhFbqV55+WWmTn2MrQdu86nyq68c\nwwEHHpxTVO1L4+l8e1eznqikMZLmSHqqVm20VZ07d+aGuybw90nP8PTjj/LIQxP5x51/Y+jhRzdZ\n/+Dvfp+xDzzOD086gz/87rzlHK2V6v333+eQg/bnvPMvZNVV/3Mmce6vzqJzQwNDDx2WY3TtSSn9\n0LabbWt5On8lMLiGx2/zVlmtO1ttuwNTJj3IjJdfYsjXt2Sv7b/Kwg8XsM/Xt/hM/T2+tT/3jb8j\nh0itWIsWLeKQg/bn4EOGse+39/uk/E9XX8Wdd9zOlVdf6yGZYqX7RItd2qqaJdGIeACYV6vjt1Vv\nvzWX9+ZnV2cXLvyQhybexyZf3YLxU6Zxx8QnuWPik6y4UjfG3j8VgFf//eInn33wn+Po1XvDXOK2\n1kUEx3x/BBv33YTjf3TCJ+V3j/s75//vudx8y1i6deuWY4Ttj0pYijqe1FnSY5JuT9sbSHpI0jRJ\nN6bXKSOpa9qenvb3Lvc75D4mKuko4CiAdXr2yjmayr0553VG/vgYlixdSixdyu57fZuddm2+Q37j\nVaN4aOJ9NDSswKqrdefM8y9bjtFaKf5v4kSuu/Ya+vX7KttslZ1JnPHLs/nxj37IRx99xN6Ddwey\ni0u/+73/jq3JxkSr3sU8HngWaBxnORf4TUTcIOkyYARwafr5dkR8WdLQVK+swWxlr1+ujZTdb4+I\nfsXU33SzLePa2+6vWTy2fG3Sc9XWK1m7sP02A3jkkSlVzXibfHXL+OMt9xZd/2t9Vn8kIpp6rzwA\nktYDrgLOAk4AvgW8CawTEYslfQ04PSL2kDQurU+S1AC8Dnw+ykiIvsXJzPJT2vl8D0lTCpajljna\nhcBPgaVpe03gnYhYnLZnAj3Tek9gBkDaPz/VL1nup/Nm1nGVeDo/t7meqKS9gTkR8YiknRuLm6ga\nRewrSS1vcboemARsLGmmpBG1asvM2qcqXljaHthH0svADcAuZD3T7ul0HWA9YFZanwn0Akj7V6PM\nC+G1vDp/SESsGxErRMR6ETG6Vm2ZWTtVpSwaESenPNMbGAr8MyKGAfcCB6Rqw4Fb0/rYtE3a/89y\nxkPBY6JmlpMsN9b8ZvufASdImk425tnYmRsNrJnKTwBOKrcBj4maWT5qdBN9RNwH3JfWXwIGNlFn\nIXBgNdpzEjWz3LThB5GK5iRqZvmpgyzqJGpmOWnbE4sUy0nUzHLTlicWKZaTqJnlopSJRdoyJ1Ez\ny009TBvoJGpmuamDHOokamb5qYMc6iRqZjmpk0FRJ1Ezy41vcTIzK5PwmKiZWUXqIIc6iZpZjuog\nizqJmlluPCZqZlaBTu0/hzqJmlmOnETNzMrTOLN9e+ckamb5qNHM9subk6iZ5aYOcqiTqJnlqA6y\nqJOomeWkPma29yuTzSw3UvFLy8dRL0n3SnpW0tOSjk/la0gaL2la+rl6KpekiyRNl/SEpP7lfgcn\nUTPLhUpcWrEY+HFEbAJsCxwraVOy98nfExF9gHv4z/vl9wT6pOUo4NJyv4eTqJnlp0pZNCJmR8Sj\naf094FmgJzAEuCpVuwrYN60PAa6OzGSgu6R1y/kKHhM1s9x0Ku0epx6SphRsj4qIUctWktQb2BJ4\nCFg7ImZDlmglrZWq9QRmFHxsZiqbXUpA4CRqZjkq8bLS3IgY0OLxpJWBvwD/ExHvtvAOp6Z2RGnh\nZHw6b2b5KOGiUjEdVkkrkCXQayPir6n4jcbT9PRzTiqfCfQq+Ph6wKxyvoaTqJnlqDqDosq6nKOB\nZyPigoJdY4HhaX04cGtB+XfTVfptgfmNp/2l8um8meWiyjPbbw8cBjwpaWoqOwU4B7hJ0gjgVeDA\ntO9O4JvAdGABcES5DTuJmlluqpVDI2JCC4fbtYn6ARxbjbadRM0sN56AxMysAvXw2KeTqJnlp/3n\nUCdRM8tPHeRQJ1Ezy4dU8hNLbZKTqJnlp/3nUCdRM8tPHeRQJ1Ezy08dnM07iZpZXupjZnsnUTPL\nRZUf+8yNJyAxM6uAe6Jmlpt66Ik6iZpZbjwmamZWpuxm+7yjqJyTqJnlx0nUzKx8Pp03M6uALyyZ\nmVWgDnKok6iZ5agOsqiTqJnlph7GRJW9r6ltkPQm8ErecSwHPYC5eQdhVdFR/pZfjIjPV/OAkv5O\n9vsr1tyIGFzNGKqhTSXRjkLSlIgYkHccVjn/Lc3PzpuZVcBJ1MysAk6i+RiVdwBWNf5bdnAeEzUz\nq4B7omZmFXASNTOrgJOomVkFnESXA0kbS/qapBUkdc47Hquc/47WyBeWakzSfsDZwGtpmQJcGRHv\n5hqYlUXSRhHxQlrvHBFL8o7J8uWeaA1JWgE4GBgREbsCtwK9gJ9KWjXX4KxkkvYGpkq6DiAilrhH\nak6itbcq0Cet3wLcDnQBDpXqYTbFjkHS54D/Bv4H+FjSn8CJ1JxEayoiFgEXAPtJ2jEilgITgKnA\nDrkGZyWJiA+AI4HrgBOBFQsTaZ6xWb6cRGvvQeBu4DBJO0XEkoi4DvgCsHm+oVkpImJWRLwfEXOB\no4GVGhOppP6S+uYboeXB84nWWEQslHQtEMDJ6T+0j4C1gdm5Bmdli4i3JB0NnCfpOaAz8I2cw7Ic\nOIkuBxHxtqQrgGfIejALge9ExBv5RmaViIi5kp4A9gR2j4iZecdky59vcVrO0kWISOOj1o5JWh24\nCfhxRDyRdzyWDydRswpIWjEiFuYdh+XHSdTMrAK+Om9mVgEnUTOzCjiJmplVwEnUzKwCTqJ1QtIS\nSVMlPSXpz5K6VXCsnSXdntb3kXRSC3W7S/qvMto4XdKJxZYvU+dKSQeU0FZvSU+VGqNZMZxE68eH\nEbFFRPQDPgaOKdypTMl/74gYGxHntFClO1ByEjWrF06i9elB4MupB/aspN8DjwK9JA2SNEnSo6nH\nujKApMGSnpM0Adiv8UCSDpcQLNo6AAACiUlEQVR0cVpfW9Itkh5Py3bAOcCXUi/4vFTvJ5IelvSE\npDMKjnWqpOcl/QPYuLUvIen76TiPS/rLMr3r3SQ9KOmFNEUdkjpLOq+g7aMr/UWatcZJtM5IaiB7\nDPHJVLQxcHVEbAl8AJwG7BYR/ckmiD5B0orAFcC3gB2BdZo5/EXA/RGxOdAfeBo4CXgx9YJ/ImkQ\n2dR/A4EtgK0k7SRpK2AosCVZkt66iK/z14jYOrX3LDCiYF9v4OvAXsBl6TuMAOZHxNbp+N+XtEER\n7ZiVzc/O14+VJE1N6w8Co8lminolIian8m2BTYGJaSrTLsAkoC/w74iYBpBmJjqqiTZ2Ab4Ln0z/\nNj89+lhoUFoeS9srkyXVVYBbImJBamNsEd+pn6Rfkg0ZrAyMK9h3U3p0dpqkl9J3GARsVjBeulpq\n+4Ui2jIri5No/fgwIrYoLEiJ8oPCImB8RByyTL0tyGaZqgYBv4qIy5dp43/KaONKYN+IeFzS4cDO\nBfuWPVakto+LiMJki6TeJbZrVjSfzncsk4HtJX0ZQFI3SRsBzwEbSPpSqndIM5+/B/hB+mzn9IqT\n98h6mY3GAUcWjLX2lLQW8ADwbUkrSVqFbOigNasAs9NrVoYts+9ASZ1SzBsCz6e2f5DqI2mjNCO9\nWc24J9qBRMSbqUd3vaSuqfi0iHhB0lHAHZLmks2+36+JQxwPjJI0AlgC/CAiJkmamG4huiuNi24C\nTEo94ffJpv17VNKNZLP6v0I25NCa/wc8lOo/yaeT9fPA/WTzsh6T5m39A9lY6aPKGn8T2Le4345Z\neTwBiZlZBXw6b2ZWASdRM7MKOImamVXASdTMrAJOomZmFXASNTOrgJOomVkF/j9qqKtPU/N4HAAA\nAABJRU5ErkJggg==\n",
      "text/plain": [
       "<matplotlib.figure.Figure at 0x7f634f5b9198>"
      ]
     },
     "metadata": {},
     "output_type": "display_data"
    },
    {
     "data": {
      "text/plain": [
       "<matplotlib.figure.Figure at 0x7f634f632048>"
      ]
     },
     "metadata": {},
     "output_type": "display_data"
    }
   ],
   "source": [
    "from plot_cm import plot_confusion_matrix\n",
    "plot_confusion_matrix(test_y, pred_test, ['0', '1'])"
   ]
  },
  {
   "cell_type": "markdown",
   "metadata": {},
   "source": [
    "The confusion matrix shows us that despite the high accuracy, the model is in fact **very bad at predicting matches** as the number of false positives is much higher than the number of true positives. This is possibly due to the fact that the majority of speed dating rounds did not result in a match. We can verify this using the dataset:"
   ]
  },
  {
   "cell_type": "code",
   "execution_count": 280,
   "metadata": {},
   "outputs": [
    {
     "name": "stdout",
     "output_type": "stream",
     "text": [
      "Rounds w/ no match: 5692 \t Rounds w/ match: 1124\n",
      "Negative/Positive ratio:  5.064056939501779\n"
=======
   "execution_count": 52,
   "metadata": {},
   "outputs": [
    {
     "ename": "ModuleNotFoundError",
     "evalue": "No module named 'sklearn.ensemble.RandomForestClassifier'",
     "output_type": "error",
     "traceback": [
      "\u001b[0;31m------------------------------------------------------------------------\u001b[0m",
      "\u001b[0;31mModuleNotFoundError\u001b[0m                    Traceback (most recent call last)",
      "\u001b[0;32m<ipython-input-52-b9707eaff2d4>\u001b[0m in \u001b[0;36m<module>\u001b[0;34m()\u001b[0m\n\u001b[0;32m----> 1\u001b[0;31m \u001b[0;32mimport\u001b[0m \u001b[0msklearn\u001b[0m\u001b[0;34m.\u001b[0m\u001b[0mensemble\u001b[0m\u001b[0;34m.\u001b[0m\u001b[0mRandomForestClassifier\u001b[0m\u001b[0;34m\u001b[0m\u001b[0m\n\u001b[0m",
      "\u001b[0;31mModuleNotFoundError\u001b[0m: No module named 'sklearn.ensemble.RandomForestClassifier'"
>>>>>>> 1df2013e912bdb037c06fd7c150739b74be61a94
     ]
    }
   ],
   "source": [
<<<<<<< HEAD
    "num_nomatch, num_match = data2.match.value_counts()\n",
    "ratio = num_nomatch / num_match\n",
    "print(\"Rounds w/ no match: %d \\t Rounds w/ match: %d\" % (num_nomatch, num_match))\n",
    "print(\"Negative/Positive ratio: \", ratio)"
   ]
  },
  {
   "cell_type": "markdown",
   "metadata": {},
   "source": [
    "Simple prediction accuracy is not a good metric to evaluate our model. Thus, we will use F1 scoring instead:"
   ]
  },
  {
   "cell_type": "code",
   "execution_count": 333,
   "metadata": {},
   "outputs": [
    {
     "data": {
      "text/plain": [
       "0.48394673499495305"
      ]
     },
     "execution_count": 333,
     "metadata": {},
     "output_type": "execute_result"
    }
   ],
   "source": [
    "from sklearn.metrics import f1_score\n",
    "f1_score(test_y, pred_test, average='macro')"
   ]
  },
  {
   "cell_type": "markdown",
   "metadata": {},
   "source": [
    "Clearly, our standard RFC model exhibits heavy bias towards the majority class which is characteristic of Random Forest. The model needs to be tuned in order accurately predict matches using this highly imbalanced data."
   ]
  },
  {
   "cell_type": "markdown",
   "metadata": {},
   "source": [
    "## 5. Model Tuning"
   ]
  },
  {
   "cell_type": "markdown",
   "metadata": {},
   "source": [
    "We now attempt to tune the *class_weight* parameter in the RFC model so that misclassifying '1's carries greater punishment during training. We will use the *GridSearchCV* class to execute the tuning. F1 scoring will be used as the evaluation metric for the tuning process:"
   ]
  },
  {
   "cell_type": "code",
   "execution_count": 328,
   "metadata": {},
   "outputs": [
    {
     "data": {
      "text/plain": [
       "GridSearchCV(cv=None, error_score='raise',\n",
       "       estimator=RandomForestClassifier(bootstrap=True, class_weight={1: 1}, criterion='gini',\n",
       "            max_depth=None, max_features='auto', max_leaf_nodes=None,\n",
       "            min_impurity_decrease=0.0, min_impurity_split=None,\n",
       "            min_samples_leaf=1, min_samples_split=2,\n",
       "            min_weight_fraction_leaf=0.0, n_estimators=10, n_jobs=1,\n",
       "            oob_score=False, random_state=None, verbose=0,\n",
       "            warm_start=False),\n",
       "       fit_params=None, iid=True, n_jobs=1,\n",
       "       param_grid={'class_weight': [{1: 0.0001}, {1: 0.0011000000000000001}, {1: 0.0020999999999999999}, {1: 0.0030999999999999999}, {1: 0.0041000000000000003}, {1: 0.0051000000000000004}, {1: 0.0061000000000000004}, {1: 0.0071000000000000004}, {1: 0.0080999999999999996}, {1: 0.0091000000000000004}, {1: 0....9999999}, {1: 0.99709999999999999}, {1: 0.99809999999999999}, {1: 0.99909999999999999}, 'balanced']},\n",
       "       pre_dispatch='2*n_jobs', refit=True, return_train_score='warn',\n",
       "       scoring=make_scorer(f1_score, average=macro), verbose=0)"
      ]
     },
     "execution_count": 328,
     "metadata": {},
     "output_type": "execute_result"
    }
   ],
   "source": [
    "from sklearn.model_selection import GridSearchCV\n",
    "from sklearn.metrics import make_scorer\n",
    "\n",
    "pos_weights = [{1 : v} for v in np.arange(1e-4, 1, 0.001)]\n",
    "pos_weights.append('balanced')\n",
    "\n",
    "param_grid = {'class_weight' : pos_weights}\n",
    "f1_scorer = make_scorer(f1_score, average='macro')\n",
    "grid = GridSearchCV(rfc, param_grid, scoring=f1_scorer)\n",
    "grid.fit(train_X, train_y)"
   ]
  },
  {
   "cell_type": "code",
   "execution_count": 329,
   "metadata": {},
   "outputs": [
    {
     "data": {
      "text/plain": [
       "0.66165320849886244"
      ]
     },
     "execution_count": 329,
     "metadata": {},
     "output_type": "execute_result"
    }
   ],
   "source": [
    "best_rfc = grid.best_estimator_\n",
    "grid.best_score_"
=======
    "from sklearn.ensemble.RandomForestClassifier"
>>>>>>> 1df2013e912bdb037c06fd7c150739b74be61a94
   ]
  },
  {
   "cell_type": "code",
<<<<<<< HEAD
   "execution_count": 330,
   "metadata": {},
   "outputs": [
    {
     "data": {
      "text/plain": [
       "{1: 0.042100000000000005}"
      ]
     },
     "execution_count": 330,
     "metadata": {},
     "output_type": "execute_result"
    }
   ],
   "source": [
    "grid.best_estimator_.class_weight"
   ]
  },
  {
   "cell_type": "code",
   "execution_count": 332,
   "metadata": {},
   "outputs": [
    {
     "name": "stdout",
     "output_type": "stream",
     "text": [
      "Confusion matrix, without normalization\n",
      "[[1633   47]\n",
      " [ 264  101]]\n"
     ]
    },
    {
     "data": {
      "image/png": "iVBORw0KGgoAAAANSUhEUgAAAVEAAAEmCAYAAADbUaM7AAAABHNCSVQICAgIfAhkiAAAAAlwSFlz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\nKuAgamZWAQdRM7MKOIiamVXg/wPUR+yvKdI9SAAAAABJRU5ErkJggg==\n",
      "text/plain": [
       "<matplotlib.figure.Figure at 0x7f634f6ed390>"
      ]
     },
     "metadata": {},
     "output_type": "display_data"
    },
    {
     "data": {
      "text/plain": [
       "<matplotlib.figure.Figure at 0x7f634f941978>"
      ]
     },
     "metadata": {},
     "output_type": "display_data"
    }
   ],
   "source": [
    "best_pred = best_rfc.predict(test_X)\n",
    "plot_confusion_matrix(test_y, best_pred, ['0', '1'])"
   ]
  },
  {
   "cell_type": "markdown",
   "metadata": {},
   "source": [
    "The optimized RFC model achieves a macro-averaged F1 score of **0.66165**, which is a significant improvement over the default RFC which scored **0.48395**. "
   ]
  },
  {
   "cell_type": "markdown",
   "metadata": {},
   "source": [
    "We can also check the simple prediction accuracy of the optimized model:"
   ]
  },
  {
   "cell_type": "code",
   "execution_count": 334,
   "metadata": {},
   "outputs": [
    {
     "data": {
      "text/plain": [
       "0.84792176039119804"
      ]
     },
     "execution_count": 334,
     "metadata": {},
     "output_type": "execute_result"
    }
   ],
   "source": [
    "accuracy_score(test_y, best_pred)"
   ]
  },
  {
   "cell_type": "markdown",
   "metadata": {},
   "source": [
    "There is no significant increase in simple accuracy, however the optimized model can output meaningful positive predictions."
   ]
  },
  {
   "cell_type": "markdown",
   "metadata": {},
   "source": [
    "## 6. Conclusion\n",
    "In this experiment, we preprocessed the Speed Dating dataset according to steps deemed appropriate after observation. We then applied the Random Forest classification algorithm in order to predict whether a given round results in a match. The naive RFC model was weight-tuned until an optimum was reached at macro-averaged F1 score of 0.662. \n",
    "\n",
    "Possibilities for future work include: Testing different classification models such as Support Vector Machine and Neural Networks."
   ]
  },
  {
   "cell_type": "code",
=======
>>>>>>> 1df2013e912bdb037c06fd7c150739b74be61a94
   "execution_count": null,
   "metadata": {},
   "outputs": [],
   "source": []
  }
 ],
 "metadata": {
  "kernelspec": {
   "display_name": "Python 3",
   "language": "python",
   "name": "python3"
  },
  "language_info": {
   "codemirror_mode": {
    "name": "ipython",
    "version": 3
   },
   "file_extension": ".py",
   "mimetype": "text/x-python",
   "name": "python",
   "nbconvert_exporter": "python",
   "pygments_lexer": "ipython3",
   "version": "3.6.2"
  }
 },
 "nbformat": 4,
 "nbformat_minor": 2
}
